{
 "cells": [
  {
   "cell_type": "markdown",
   "id": "8ddf39b9",
   "metadata": {
    "id": "8ddf39b9",
    "papermill": {
     "duration": 0.045696,
     "end_time": "2021-11-13T16:30:04.304831",
     "exception": false,
     "start_time": "2021-11-13T16:30:04.259135",
     "status": "completed"
    },
    "tags": []
   },
   "source": [
    "# **Detecting Signs of Depression from Social Media Text**\n"
   ]
  },
  {
   "cell_type": "code",
   "execution_count": 1,
   "id": "39406a77",
   "metadata": {
    "_cell_guid": "b1076dfc-b9ad-4769-8c92-a6c4dae69d19",
    "_uuid": "8f2839f25d086af736a60e9eeb907d3b93b6e0e5",
    "execution": {
     "iopub.execute_input": "2021-11-13T16:30:04.487990Z",
     "iopub.status.busy": "2021-11-13T16:30:04.486194Z",
     "iopub.status.idle": "2021-11-13T16:30:04.511749Z",
     "shell.execute_reply": "2021-11-13T16:30:04.510368Z",
     "shell.execute_reply.started": "2021-11-13T16:17:58.996356Z"
    },
    "id": "39406a77",
    "papermill": {
     "duration": 0.074392,
     "end_time": "2021-11-13T16:30:04.512054",
     "exception": false,
     "start_time": "2021-11-13T16:30:04.437662",
     "status": "completed"
    },
    "tags": []
   },
   "outputs": [],
   "source": [
    "import numpy as np \n",
    "import pandas as pd"
   ]
  },
  {
   "cell_type": "code",
   "execution_count": 2,
   "id": "JnV8yLWAgCGB",
   "metadata": {
    "colab": {
     "base_uri": "https://localhost:8080/"
    },
    "id": "JnV8yLWAgCGB",
    "outputId": "6b01ea47-e671-4dab-8f24-6bf91ba45654"
   },
   "outputs": [],
   "source": [
    "import spacy.cli"
   ]
  },
  {
   "cell_type": "code",
   "execution_count": 3,
   "id": "e5bc4de9",
   "metadata": {
    "execution": {
     "iopub.execute_input": "2021-11-13T16:30:04.606516Z",
     "iopub.status.busy": "2021-11-13T16:30:04.605523Z",
     "iopub.status.idle": "2021-11-13T16:30:20.864453Z",
     "shell.execute_reply": "2021-11-13T16:30:20.865046Z",
     "shell.execute_reply.started": "2021-11-13T16:17:59.037691Z"
    },
    "id": "e5bc4de9",
    "papermill": {
     "duration": 16.306798,
     "end_time": "2021-11-13T16:30:20.865242",
     "exception": false,
     "start_time": "2021-11-13T16:30:04.558444",
     "status": "completed"
    },
    "tags": []
   },
   "outputs": [],
   "source": [
    "import re\n",
    "import string\n",
    "import pandas as pd\n",
    "import matplotlib.pyplot as plt\n",
    "import seaborn as sns\n",
    "import pickle\n",
    "import spacy\n",
    "nlp = spacy.load(\"en_core_web_lg\")\n",
    "from sklearn.base import TransformerMixin, BaseEstimator\n",
    "from sklearn.model_selection import train_test_split\n",
    "from sklearn.feature_extraction.text import TfidfVectorizer\n",
    "from sklearn.calibration import CalibratedClassifierCV\n",
    "from imblearn.under_sampling import InstanceHardnessThreshold\n",
    "from sklearn.svm import LinearSVC\n",
    "from sklearn.preprocessing import MinMaxScaler\n",
    "from sklearn.feature_selection import SelectFromModel\n",
    "from sklearn.linear_model import LogisticRegression, SGDClassifier\n",
    "from sklearn.ensemble import VotingClassifier\n",
    "from sklearn.naive_bayes import MultinomialNB, ComplementNB\n",
    "from sklearn.svm import LinearSVC\n",
    "from sklearn.model_selection import cross_val_score\n",
    "from sklearn.metrics import classification_report\n",
    "from sklearn.model_selection import train_test_split\n",
    "from sklearn.metrics import confusion_matrix\n",
    "from sklearn.utils.multiclass import unique_labels\n",
    "from sklearn.feature_selection import SelectFromModel\n",
    "from imblearn.pipeline import Pipeline"
   ]
  },
  {
   "cell_type": "code",
   "execution_count": 4,
   "id": "PUVpVbWxgcCV",
   "metadata": {
    "id": "PUVpVbWxgcCV"
   },
   "outputs": [],
   "source": [
    "import warnings\n",
    "warnings.filterwarnings(\"ignore\")"
   ]
  },
  {
   "cell_type": "code",
   "execution_count": 5,
   "id": "db6dcfd8",
   "metadata": {
    "colab": {
     "base_uri": "https://localhost:8080/",
     "height": 206
    },
    "execution": {
     "iopub.execute_input": "2021-11-13T16:30:21.049711Z",
     "iopub.status.busy": "2021-11-13T16:30:21.048666Z",
     "iopub.status.idle": "2021-11-13T16:30:25.721826Z",
     "shell.execute_reply": "2021-11-13T16:30:25.722487Z",
     "shell.execute_reply.started": "2021-11-13T16:18:14.852220Z"
    },
    "id": "db6dcfd8",
    "outputId": "a822ba59-5d7f-4316-9902-8edee942485e",
    "papermill": {
     "duration": 4.72281,
     "end_time": "2021-11-13T16:30:25.722678",
     "exception": false,
     "start_time": "2021-11-13T16:30:20.999868",
     "status": "completed"
    },
    "tags": []
   },
   "outputs": [
    {
     "data": {
      "text/html": [
       "<div>\n",
       "<style scoped>\n",
       "    .dataframe tbody tr th:only-of-type {\n",
       "        vertical-align: middle;\n",
       "    }\n",
       "\n",
       "    .dataframe tbody tr th {\n",
       "        vertical-align: top;\n",
       "    }\n",
       "\n",
       "    .dataframe thead th {\n",
       "        text-align: right;\n",
       "    }\n",
       "</style>\n",
       "<table border=\"1\" class=\"dataframe\">\n",
       "  <thead>\n",
       "    <tr style=\"text-align: right;\">\n",
       "      <th></th>\n",
       "      <th>Unnamed: 0</th>\n",
       "      <th>text</th>\n",
       "      <th>class</th>\n",
       "    </tr>\n",
       "  </thead>\n",
       "  <tbody>\n",
       "    <tr>\n",
       "      <th>0</th>\n",
       "      <td>2</td>\n",
       "      <td>Ex Wife Threatening SuicideRecently I left my ...</td>\n",
       "      <td>suicide</td>\n",
       "    </tr>\n",
       "    <tr>\n",
       "      <th>1</th>\n",
       "      <td>3</td>\n",
       "      <td>Am I weird I don't get affected by compliments...</td>\n",
       "      <td>non-suicide</td>\n",
       "    </tr>\n",
       "    <tr>\n",
       "      <th>2</th>\n",
       "      <td>4</td>\n",
       "      <td>Finally 2020 is almost over... So I can never ...</td>\n",
       "      <td>non-suicide</td>\n",
       "    </tr>\n",
       "    <tr>\n",
       "      <th>3</th>\n",
       "      <td>8</td>\n",
       "      <td>i need helpjust help me im crying so hard</td>\n",
       "      <td>suicide</td>\n",
       "    </tr>\n",
       "    <tr>\n",
       "      <th>4</th>\n",
       "      <td>9</td>\n",
       "      <td>I’m so lostHello, my name is Adam (16) and I’v...</td>\n",
       "      <td>suicide</td>\n",
       "    </tr>\n",
       "  </tbody>\n",
       "</table>\n",
       "</div>"
      ],
      "text/plain": [
       "   Unnamed: 0                                               text        class\n",
       "0           2  Ex Wife Threatening SuicideRecently I left my ...      suicide\n",
       "1           3  Am I weird I don't get affected by compliments...  non-suicide\n",
       "2           4  Finally 2020 is almost over... So I can never ...  non-suicide\n",
       "3           8          i need helpjust help me im crying so hard      suicide\n",
       "4           9  I’m so lostHello, my name is Adam (16) and I’v...      suicide"
      ]
     },
     "execution_count": 5,
     "metadata": {},
     "output_type": "execute_result"
    }
   ],
   "source": [
    "data=pd.read_csv(\"/Users/adhityagopal/Documents/sem 8/realtime analytics/j com/Suicide_Detection.csv\")\n",
    "data.head()"
   ]
  },
  {
   "cell_type": "code",
   "execution_count": 6,
   "id": "aoqmk45tljeL",
   "metadata": {
    "id": "aoqmk45tljeL"
   },
   "outputs": [],
   "source": [
    "data['class']=data['class'].str.replace('non-suicide','not depressed')\n",
    "data['class']=data['class'].str.replace('suicide','severely depressed')"
   ]
  },
  {
   "cell_type": "code",
   "execution_count": 7,
   "id": "IGsG2QsMljHS",
   "metadata": {
    "colab": {
     "base_uri": "https://localhost:8080/",
     "height": 206
    },
    "id": "IGsG2QsMljHS",
    "outputId": "20fd56ae-bd5c-4ced-c6a2-80e826f4a652"
   },
   "outputs": [
    {
     "data": {
      "text/html": [
       "<div>\n",
       "<style scoped>\n",
       "    .dataframe tbody tr th:only-of-type {\n",
       "        vertical-align: middle;\n",
       "    }\n",
       "\n",
       "    .dataframe tbody tr th {\n",
       "        vertical-align: top;\n",
       "    }\n",
       "\n",
       "    .dataframe thead th {\n",
       "        text-align: right;\n",
       "    }\n",
       "</style>\n",
       "<table border=\"1\" class=\"dataframe\">\n",
       "  <thead>\n",
       "    <tr style=\"text-align: right;\">\n",
       "      <th></th>\n",
       "      <th>Unnamed: 0</th>\n",
       "      <th>text</th>\n",
       "      <th>class</th>\n",
       "    </tr>\n",
       "  </thead>\n",
       "  <tbody>\n",
       "    <tr>\n",
       "      <th>0</th>\n",
       "      <td>2</td>\n",
       "      <td>Ex Wife Threatening SuicideRecently I left my ...</td>\n",
       "      <td>severely depressed</td>\n",
       "    </tr>\n",
       "    <tr>\n",
       "      <th>1</th>\n",
       "      <td>3</td>\n",
       "      <td>Am I weird I don't get affected by compliments...</td>\n",
       "      <td>not depressed</td>\n",
       "    </tr>\n",
       "    <tr>\n",
       "      <th>2</th>\n",
       "      <td>4</td>\n",
       "      <td>Finally 2020 is almost over... So I can never ...</td>\n",
       "      <td>not depressed</td>\n",
       "    </tr>\n",
       "    <tr>\n",
       "      <th>3</th>\n",
       "      <td>8</td>\n",
       "      <td>i need helpjust help me im crying so hard</td>\n",
       "      <td>severely depressed</td>\n",
       "    </tr>\n",
       "    <tr>\n",
       "      <th>4</th>\n",
       "      <td>9</td>\n",
       "      <td>I’m so lostHello, my name is Adam (16) and I’v...</td>\n",
       "      <td>severely depressed</td>\n",
       "    </tr>\n",
       "  </tbody>\n",
       "</table>\n",
       "</div>"
      ],
      "text/plain": [
       "   Unnamed: 0                                               text  \\\n",
       "0           2  Ex Wife Threatening SuicideRecently I left my ...   \n",
       "1           3  Am I weird I don't get affected by compliments...   \n",
       "2           4  Finally 2020 is almost over... So I can never ...   \n",
       "3           8          i need helpjust help me im crying so hard   \n",
       "4           9  I’m so lostHello, my name is Adam (16) and I’v...   \n",
       "\n",
       "                class  \n",
       "0  severely depressed  \n",
       "1       not depressed  \n",
       "2       not depressed  \n",
       "3  severely depressed  \n",
       "4  severely depressed  "
      ]
     },
     "execution_count": 7,
     "metadata": {},
     "output_type": "execute_result"
    }
   ],
   "source": [
    "data.head()"
   ]
  },
  {
   "cell_type": "code",
   "execution_count": 8,
   "id": "e47dfdeb",
   "metadata": {
    "colab": {
     "base_uri": "https://localhost:8080/"
    },
    "execution": {
     "iopub.execute_input": "2021-11-13T16:30:25.878383Z",
     "iopub.status.busy": "2021-11-13T16:30:25.877382Z",
     "iopub.status.idle": "2021-11-13T16:30:25.883798Z",
     "shell.execute_reply": "2021-11-13T16:30:25.883131Z",
     "shell.execute_reply.started": "2021-11-13T16:18:19.235848Z"
    },
    "id": "e47dfdeb",
    "outputId": "568c1828-439d-4a9b-afa2-5967bf473f35",
    "papermill": {
     "duration": 0.054365,
     "end_time": "2021-11-13T16:30:25.883935",
     "exception": false,
     "start_time": "2021-11-13T16:30:25.829570",
     "status": "completed"
    },
    "tags": []
   },
   "outputs": [
    {
     "data": {
      "text/plain": [
       "(232074, 3)"
      ]
     },
     "execution_count": 8,
     "metadata": {},
     "output_type": "execute_result"
    }
   ],
   "source": [
    "data.shape"
   ]
  },
  {
   "cell_type": "code",
   "execution_count": 9,
   "id": "d34d9716",
   "metadata": {
    "execution": {
     "iopub.execute_input": "2021-11-13T16:30:25.981975Z",
     "iopub.status.busy": "2021-11-13T16:30:25.980964Z",
     "iopub.status.idle": "2021-11-13T16:30:26.002943Z",
     "shell.execute_reply": "2021-11-13T16:30:26.002235Z",
     "shell.execute_reply.started": "2021-11-13T16:18:19.242756Z"
    },
    "id": "d34d9716",
    "papermill": {
     "duration": 0.073644,
     "end_time": "2021-11-13T16:30:26.003105",
     "exception": false,
     "start_time": "2021-11-13T16:30:25.929461",
     "status": "completed"
    },
    "tags": []
   },
   "outputs": [],
   "source": [
    "data_split=np.array_split(data,20)\n",
    "df=data_split[0].copy()\n",
    "df2=data_split[1].copy()\n",
    "df3=data_split[2]\n",
    "df4=data_split[3]\n",
    "df5=data_split[4]\n",
    "df6=data_split[5]"
   ]
  },
  {
   "cell_type": "code",
   "execution_count": 10,
   "id": "f5e82635",
   "metadata": {
    "execution": {
     "iopub.execute_input": "2021-11-13T16:30:26.113681Z",
     "iopub.status.busy": "2021-11-13T16:30:26.106254Z",
     "iopub.status.idle": "2021-11-13T16:30:26.116093Z",
     "shell.execute_reply": "2021-11-13T16:30:26.115105Z",
     "shell.execute_reply.started": "2021-11-13T16:18:19.279434Z"
    },
    "id": "f5e82635",
    "papermill": {
     "duration": 0.067062,
     "end_time": "2021-11-13T16:30:26.116339",
     "exception": false,
     "start_time": "2021-11-13T16:30:26.049277",
     "status": "completed"
    },
    "tags": []
   },
   "outputs": [],
   "source": [
    "df=df.rename(columns={\"class\":\"target\"})"
   ]
  },
  {
   "cell_type": "code",
   "execution_count": 11,
   "id": "b9d41fe1",
   "metadata": {
    "colab": {
     "base_uri": "https://localhost:8080/",
     "height": 206
    },
    "execution": {
     "iopub.execute_input": "2021-11-13T16:30:26.235963Z",
     "iopub.status.busy": "2021-11-13T16:30:26.234687Z",
     "iopub.status.idle": "2021-11-13T16:30:26.238170Z",
     "shell.execute_reply": "2021-11-13T16:30:26.238642Z",
     "shell.execute_reply.started": "2021-11-13T16:18:19.290249Z"
    },
    "id": "b9d41fe1",
    "outputId": "3aa96e26-ad85-434d-a50c-b08c05231e77",
    "papermill": {
     "duration": 0.064285,
     "end_time": "2021-11-13T16:30:26.238814",
     "exception": false,
     "start_time": "2021-11-13T16:30:26.174529",
     "status": "completed"
    },
    "tags": []
   },
   "outputs": [
    {
     "data": {
      "text/html": [
       "<div>\n",
       "<style scoped>\n",
       "    .dataframe tbody tr th:only-of-type {\n",
       "        vertical-align: middle;\n",
       "    }\n",
       "\n",
       "    .dataframe tbody tr th {\n",
       "        vertical-align: top;\n",
       "    }\n",
       "\n",
       "    .dataframe thead th {\n",
       "        text-align: right;\n",
       "    }\n",
       "</style>\n",
       "<table border=\"1\" class=\"dataframe\">\n",
       "  <thead>\n",
       "    <tr style=\"text-align: right;\">\n",
       "      <th></th>\n",
       "      <th>Unnamed: 0</th>\n",
       "      <th>text</th>\n",
       "      <th>target</th>\n",
       "    </tr>\n",
       "  </thead>\n",
       "  <tbody>\n",
       "    <tr>\n",
       "      <th>0</th>\n",
       "      <td>2</td>\n",
       "      <td>Ex Wife Threatening SuicideRecently I left my ...</td>\n",
       "      <td>severely depressed</td>\n",
       "    </tr>\n",
       "    <tr>\n",
       "      <th>1</th>\n",
       "      <td>3</td>\n",
       "      <td>Am I weird I don't get affected by compliments...</td>\n",
       "      <td>not depressed</td>\n",
       "    </tr>\n",
       "    <tr>\n",
       "      <th>2</th>\n",
       "      <td>4</td>\n",
       "      <td>Finally 2020 is almost over... So I can never ...</td>\n",
       "      <td>not depressed</td>\n",
       "    </tr>\n",
       "    <tr>\n",
       "      <th>3</th>\n",
       "      <td>8</td>\n",
       "      <td>i need helpjust help me im crying so hard</td>\n",
       "      <td>severely depressed</td>\n",
       "    </tr>\n",
       "    <tr>\n",
       "      <th>4</th>\n",
       "      <td>9</td>\n",
       "      <td>I’m so lostHello, my name is Adam (16) and I’v...</td>\n",
       "      <td>severely depressed</td>\n",
       "    </tr>\n",
       "  </tbody>\n",
       "</table>\n",
       "</div>"
      ],
      "text/plain": [
       "   Unnamed: 0                                               text  \\\n",
       "0           2  Ex Wife Threatening SuicideRecently I left my ...   \n",
       "1           3  Am I weird I don't get affected by compliments...   \n",
       "2           4  Finally 2020 is almost over... So I can never ...   \n",
       "3           8          i need helpjust help me im crying so hard   \n",
       "4           9  I’m so lostHello, my name is Adam (16) and I’v...   \n",
       "\n",
       "               target  \n",
       "0  severely depressed  \n",
       "1       not depressed  \n",
       "2       not depressed  \n",
       "3  severely depressed  \n",
       "4  severely depressed  "
      ]
     },
     "execution_count": 11,
     "metadata": {},
     "output_type": "execute_result"
    }
   ],
   "source": [
    "df.head()"
   ]
  },
  {
   "cell_type": "code",
   "execution_count": 12,
   "id": "0f3a1578",
   "metadata": {
    "colab": {
     "base_uri": "https://localhost:8080/",
     "height": 283
    },
    "execution": {
     "iopub.execute_input": "2021-11-13T16:30:26.550746Z",
     "iopub.status.busy": "2021-11-13T16:30:26.549943Z",
     "iopub.status.idle": "2021-11-13T16:30:26.802383Z",
     "shell.execute_reply": "2021-11-13T16:30:26.802996Z",
     "shell.execute_reply.started": "2021-11-13T16:18:19.345253Z"
    },
    "id": "0f3a1578",
    "outputId": "040836c8-b4fc-445a-d0e0-acfbfcbf4cd1",
    "papermill": {
     "duration": 0.304318,
     "end_time": "2021-11-13T16:30:26.803171",
     "exception": false,
     "start_time": "2021-11-13T16:30:26.498853",
     "status": "completed"
    },
    "tags": []
   },
   "outputs": [
    {
     "data": {
      "text/plain": [
       "<AxesSubplot: >"
      ]
     },
     "execution_count": 12,
     "metadata": {},
     "output_type": "execute_result"
    },
    {
     "data": {
      "image/png": "[encoded data removed]",
      "text/plain": [
       "<Figure size 640x480 with 1 Axes>"
      ]
     },
     "metadata": {},
     "output_type": "display_data"
    }
   ],
   "source": [
    "df.target.value_counts().plot.barh()"
   ]
  },
  {
   "cell_type": "code",
   "execution_count": 13,
   "id": "1af7dda6",
   "metadata": {
    "execution": {
     "iopub.execute_input": "2021-11-13T16:30:27.424715Z",
     "iopub.status.busy": "2021-11-13T16:30:27.204257Z",
     "iopub.status.idle": "2021-11-13T16:30:27.428064Z",
     "shell.execute_reply": "2021-11-13T16:30:27.427513Z",
     "shell.execute_reply.started": "2021-11-13T16:18:19.547544Z"
    },
    "id": "1af7dda6",
    "papermill": {
     "duration": 0.274767,
     "end_time": "2021-11-13T16:30:27.428223",
     "exception": false,
     "start_time": "2021-11-13T16:30:27.153456",
     "status": "completed"
    },
    "tags": []
   },
   "outputs": [],
   "source": [
    "class TextPreprocessor(TransformerMixin):\n",
    "    def __init__(self, text_attribute):\n",
    "        self.text_attribute = text_attribute\n",
    "        \n",
    "    def transform(self,X, *_):\n",
    "        X_copy=X.copy()\n",
    "        X_copy[self.text_attribute]=X_copy[self.text_attribute].apply(self._preprocess_text)\n",
    "        return X_copy\n",
    "    \n",
    "    def _preprocess_text(self,text):\n",
    "        return self._lemmatize(self._leave_letters_only(self._clean(text)))\n",
    "    \n",
    "    def _clean(self,text):\n",
    "        bad_symbols='!\"#%&\\'*+,-<=>?[\\\\]^_`{|}~'\n",
    "        text_without_symbols=text.translate(str.maketrans('','',bad_symbols))\n",
    "\n",
    "        text_without_bad_words=''\n",
    "        for line in text_without_symbols.split('\\n'):\n",
    "            if not line.lower().startswith('from:') and not line.lower().endswith('writes:'):\n",
    "                text_without_bad_words +=line + '\\n'\n",
    "\n",
    "        clean_text=text_without_bad_words\n",
    "        email_regex=r'([a-zA-Z0-9_.+-]+@[a-zA-Z0-9-]+\\.[a-zA-Z0-9-.]+)'\n",
    "        regexes_to_remove=[email_regex, r'Subject:', r'Re:']\n",
    "        for r in regexes_to_remove:\n",
    "            clean_text=re.sub(r,'', clean_text)\n",
    "        return clean_text\n",
    "    \n",
    "    def _leave_letters_only(self, text):\n",
    "        text_without_punctuation = text.translate(str.maketrans('', '', string.punctuation))\n",
    "        return ' '.join(re.findall(\"[a-zA-Z]+\", text_without_punctuation))\n",
    "    \n",
    "    def _lemmatize(self,text):\n",
    "        doc=nlp(text)\n",
    "        words=[x.lemma_ for x in [y for y in doc if not y.is_stop and y.pos_ != 'PUNCT' \n",
    "                                    and y.pos_ != 'PART' and y.pos_ != 'X']]\n",
    "        return ' '.join(words)\n",
    "    \n",
    "    def fit(self, *_):\n",
    "        return self"
   ]
  },
  {
   "cell_type": "code",
   "execution_count": 14,
   "id": "f2533c6a",
   "metadata": {
    "execution": {
     "iopub.execute_input": "2021-11-13T16:30:27.529044Z",
     "iopub.status.busy": "2021-11-13T16:30:27.528307Z",
     "iopub.status.idle": "2021-11-13T16:35:49.071149Z",
     "shell.execute_reply": "2021-11-13T16:35:49.070547Z",
     "shell.execute_reply.started": "2021-11-13T16:18:19.765174Z"
    },
    "id": "f2533c6a",
    "papermill": {
     "duration": 321.593986,
     "end_time": "2021-11-13T16:35:49.071308",
     "exception": false,
     "start_time": "2021-11-13T16:30:27.477322",
     "status": "completed"
    },
    "tags": []
   },
   "outputs": [],
   "source": [
    "text_preprocessor=TextPreprocessor(text_attribute='text')\n",
    "df_preprocessed=text_preprocessor.transform(df)"
   ]
  },
  {
   "cell_type": "code",
   "execution_count": 15,
   "id": "f4b0fc42",
   "metadata": {
    "execution": {
     "iopub.execute_input": "2021-11-13T16:35:49.265089Z",
     "iopub.status.busy": "2021-11-13T16:35:49.264117Z",
     "iopub.status.idle": "2021-11-13T16:35:49.273779Z",
     "shell.execute_reply": "2021-11-13T16:35:49.274259Z",
     "shell.execute_reply.started": "2021-11-13T16:23:36.267190Z"
    },
    "id": "f4b0fc42",
    "papermill": {
     "duration": 0.061526,
     "end_time": "2021-11-13T16:35:49.274435",
     "exception": false,
     "start_time": "2021-11-13T16:35:49.212909",
     "status": "completed"
    },
    "tags": []
   },
   "outputs": [],
   "source": [
    "train,test=train_test_split(df_preprocessed,test_size=0.3)"
   ]
  },
  {
   "cell_type": "code",
   "execution_count": 16,
   "id": "5aae360e",
   "metadata": {
    "execution": {
     "iopub.execute_input": "2021-11-13T16:35:49.416251Z",
     "iopub.status.busy": "2021-11-13T16:35:49.405734Z",
     "iopub.status.idle": "2021-11-13T16:35:50.219235Z",
     "shell.execute_reply": "2021-11-13T16:35:50.218525Z",
     "shell.execute_reply.started": "2021-11-13T16:23:36.278651Z"
    },
    "id": "5aae360e",
    "papermill": {
     "duration": 0.897559,
     "end_time": "2021-11-13T16:35:50.219382",
     "exception": false,
     "start_time": "2021-11-13T16:35:49.321823",
     "status": "completed"
    },
    "tags": []
   },
   "outputs": [],
   "source": [
    "tfidf_vectorizer=TfidfVectorizer(analyzer=\"word\",max_features=10000)\n",
    "X_tfidf_train=tfidf_vectorizer.fit_transform(train['text'])\n",
    "X_tfidf_test=tfidf_vectorizer.transform(test['text'])"
   ]
  },
  {
   "cell_type": "code",
   "execution_count": 17,
   "id": "6a6b834b",
   "metadata": {
    "execution": {
     "iopub.execute_input": "2021-11-13T16:35:50.324797Z",
     "iopub.status.busy": "2021-11-13T16:35:50.324103Z",
     "iopub.status.idle": "2021-11-13T16:35:50.326388Z",
     "shell.execute_reply": "2021-11-13T16:35:50.326984Z",
     "shell.execute_reply.started": "2021-11-13T16:23:37.139502Z"
    },
    "id": "6a6b834b",
    "papermill": {
     "duration": 0.057169,
     "end_time": "2021-11-13T16:35:50.327244",
     "exception": false,
     "start_time": "2021-11-13T16:35:50.270075",
     "status": "completed"
    },
    "tags": []
   },
   "outputs": [],
   "source": [
    "y=train['target']\n",
    "y_test=test['target']"
   ]
  },
  {
   "cell_type": "code",
   "execution_count": 18,
   "id": "f40a8907",
   "metadata": {
    "execution": {
     "iopub.execute_input": "2021-11-13T16:35:50.428149Z",
     "iopub.status.busy": "2021-11-13T16:35:50.427421Z",
     "iopub.status.idle": "2021-11-13T16:35:50.429369Z",
     "shell.execute_reply": "2021-11-13T16:35:50.430036Z",
     "shell.execute_reply.started": "2021-11-13T16:23:37.148321Z"
    },
    "id": "f40a8907",
    "papermill": {
     "duration": 0.055116,
     "end_time": "2021-11-13T16:35:50.430203",
     "exception": false,
     "start_time": "2021-11-13T16:35:50.375087",
     "status": "completed"
    },
    "tags": []
   },
   "outputs": [],
   "source": [
    "X,y=X_tfidf_train,y\n",
    "X_test,y_test=X_tfidf_test,y_test"
   ]
  },
  {
   "cell_type": "markdown",
   "id": "c575023c",
   "metadata": {
    "id": "c575023c",
    "papermill": {
     "duration": 0.047362,
     "end_time": "2021-11-13T16:35:50.528196",
     "exception": false,
     "start_time": "2021-11-13T16:35:50.480834",
     "status": "completed"
    },
    "tags": []
   },
   "source": [
    "##Feature Scaling"
   ]
  },
  {
   "cell_type": "code",
   "execution_count": 19,
   "id": "891e7f38",
   "metadata": {
    "execution": {
     "iopub.execute_input": "2021-11-13T16:35:50.626807Z",
     "iopub.status.busy": "2021-11-13T16:35:50.626154Z",
     "iopub.status.idle": "2021-11-13T16:35:52.436283Z",
     "shell.execute_reply": "2021-11-13T16:35:52.436858Z",
     "shell.execute_reply.started": "2021-11-13T16:23:37.159243Z"
    },
    "id": "891e7f38",
    "papermill": {
     "duration": 1.861039,
     "end_time": "2021-11-13T16:35:52.437041",
     "exception": false,
     "start_time": "2021-11-13T16:35:50.576002",
     "status": "completed"
    },
    "tags": []
   },
   "outputs": [],
   "source": [
    "scaler=MinMaxScaler()\n",
    "X_norm=scaler.fit_transform(X.toarray())\n",
    "X_test_norm=scaler.transform(X_test.toarray())"
   ]
  },
  {
   "cell_type": "markdown",
   "id": "bb1c2bd2",
   "metadata": {
    "id": "bb1c2bd2",
    "papermill": {
     "duration": 0.048222,
     "end_time": "2021-11-13T16:35:52.535189",
     "exception": false,
     "start_time": "2021-11-13T16:35:52.486967",
     "status": "completed"
    },
    "tags": []
   },
   "source": [
    "## Feature Selection"
   ]
  },
  {
   "cell_type": "code",
   "execution_count": 22,
   "id": "7b84dba1",
   "metadata": {
    "execution": {
     "iopub.execute_input": "2021-11-13T16:35:52.636515Z",
     "iopub.status.busy": "2021-11-13T16:35:52.635770Z",
     "iopub.status.idle": "2021-11-13T16:35:54.873840Z",
     "shell.execute_reply": "2021-11-13T16:35:54.873233Z",
     "shell.execute_reply.started": "2021-11-13T16:23:38.936200Z"
    },
    "id": "7b84dba1",
    "papermill": {
     "duration": 2.289437,
     "end_time": "2021-11-13T16:35:54.873981",
     "exception": false,
     "start_time": "2021-11-13T16:35:52.584544",
     "status": "completed"
    },
    "tags": []
   },
   "outputs": [],
   "source": [
    "lsvc=LinearSVC(C=100,penalty='l1',max_iter=500,dual=False)\n",
    "lsvc.fit(X_norm,y)\n",
    "fs=SelectFromModel(lsvc,prefit=True)\n",
    "X_sel=fs.transform(X_norm)\n",
    "X_test_sel=fs.transform(X_test_norm)"
   ]
  },
  {
   "cell_type": "code",
   "execution_count": 23,
   "id": "892031e9",
   "metadata": {
    "execution": {
     "iopub.execute_input": "2021-11-13T16:35:54.975363Z",
     "iopub.status.busy": "2021-11-13T16:35:54.974265Z",
     "iopub.status.idle": "2021-11-13T16:35:54.980107Z",
     "shell.execute_reply": "2021-11-13T16:35:54.980694Z",
     "shell.execute_reply.started": "2021-11-13T16:23:40.982075Z"
    },
    "id": "892031e9",
    "papermill": {
     "duration": 0.058823,
     "end_time": "2021-11-13T16:35:54.980863",
     "exception": false,
     "start_time": "2021-11-13T16:35:54.922040",
     "status": "completed"
    },
    "tags": []
   },
   "outputs": [],
   "source": [
    "from IPython.display import Markdown, display\n",
    "def show_top10_features(classifier, feature_names, categories):\n",
    "    for i,category in enumerate(categories):\n",
    "        top10=np.argsort(classifier.coef_[0, i])[-100:]"
   ]
  },
  {
   "cell_type": "code",
   "execution_count": 24,
   "id": "08850fd7",
   "metadata": {
    "execution": {
     "iopub.execute_input": "2021-11-13T16:35:55.081975Z",
     "iopub.status.busy": "2021-11-13T16:35:55.080916Z",
     "iopub.status.idle": "2021-11-13T16:35:55.107958Z",
     "shell.execute_reply": "2021-11-13T16:35:55.108524Z",
     "shell.execute_reply.started": "2021-11-13T16:23:40.989400Z"
    },
    "id": "08850fd7",
    "papermill": {
     "duration": 0.079371,
     "end_time": "2021-11-13T16:35:55.108696",
     "exception": false,
     "start_time": "2021-11-13T16:35:55.029325",
     "status": "completed"
    },
    "tags": []
   },
   "outputs": [],
   "source": [
    "feature_names=np.array(tfidf_vectorizer.get_feature_names())\n",
    "show_top10_features(lsvc,feature_names, lsvc.classes_)"
   ]
  },
  {
   "cell_type": "code",
   "execution_count": 25,
   "id": "b08b904f",
   "metadata": {
    "colab": {
     "base_uri": "https://localhost:8080/"
    },
    "execution": {
     "iopub.execute_input": "2021-11-13T16:35:55.210077Z",
     "iopub.status.busy": "2021-11-13T16:35:55.209091Z",
     "iopub.status.idle": "2021-11-13T16:35:55.215210Z",
     "shell.execute_reply": "2021-11-13T16:35:55.215754Z",
     "shell.execute_reply.started": "2021-11-13T16:23:41.023942Z"
    },
    "id": "b08b904f",
    "outputId": "16a2f734-1d0b-42f1-a76b-a4d4ca30fbb9",
    "papermill": {
     "duration": 0.058628,
     "end_time": "2021-11-13T16:35:55.215925",
     "exception": false,
     "start_time": "2021-11-13T16:35:55.157297",
     "status": "completed"
    },
    "tags": []
   },
   "outputs": [
    {
     "name": "stdout",
     "output_type": "stream",
     "text": [
      "New dataset shape:  (8122, 2944)\n",
      "Reduced Number of Features:  7056\n"
     ]
    }
   ],
   "source": [
    "print(\"New dataset shape: \",X_sel.shape)\n",
    "print(\"Reduced Number of Features: \",X_norm.shape[1]-X_sel.shape[1])"
   ]
  },
  {
   "cell_type": "markdown",
   "id": "cac1f359",
   "metadata": {
    "id": "cac1f359",
    "papermill": {
     "duration": 0.049383,
     "end_time": "2021-11-13T16:35:55.315384",
     "exception": false,
     "start_time": "2021-11-13T16:35:55.266001",
     "status": "completed"
    },
    "tags": []
   },
   "source": [
    "## Predictive Models"
   ]
  },
  {
   "cell_type": "code",
   "execution_count": 26,
   "id": "7f09c644",
   "metadata": {
    "execution": {
     "iopub.execute_input": "2021-11-13T16:35:55.423257Z",
     "iopub.status.busy": "2021-11-13T16:35:55.422211Z",
     "iopub.status.idle": "2021-11-13T16:35:55.426719Z",
     "shell.execute_reply": "2021-11-13T16:35:55.427175Z",
     "shell.execute_reply.started": "2021-11-13T16:23:41.030868Z"
    },
    "id": "7f09c644",
    "papermill": {
     "duration": 0.06281,
     "end_time": "2021-11-13T16:35:55.427348",
     "exception": false,
     "start_time": "2021-11-13T16:35:55.364538",
     "status": "completed"
    },
    "tags": []
   },
   "outputs": [],
   "source": [
    "def print_confusion_matrix(confusion_matrix, \n",
    "                           class_names, \n",
    "                           figsize=(8,8), \n",
    "                           fontsize=12,\n",
    "                           ylabel='True label',\n",
    "                           xlabel='Predicted label'):\n",
    "    df_cm = pd.DataFrame(\n",
    "        confusion_matrix, index=class_names, columns=class_names, \n",
    "    )\n",
    "    fig = plt.figure(figsize=figsize)\n",
    "    try:\n",
    "        heatmap = sns.heatmap(df_cm, annot=True, fmt=\"d\")\n",
    "    except ValueError:\n",
    "        raise ValueError(\"Confusion matrix values must be integers.\")\n",
    "    heatmap.yaxis.set_ticklabels(heatmap.yaxis.get_ticklabels(), rotation=0, ha='right',fontsize=fontsize)\n",
    "    heatmap.xaxis.set_ticklabels(heatmap.xaxis.get_ticklabels(), rotation=45, ha='right',fontsize=fontsize)\n",
    "    plt.ylabel(ylabel)\n",
    "    plt.xlabel(xlabel)"
   ]
  },
  {
   "cell_type": "code",
   "execution_count": 27,
   "id": "b8940992",
   "metadata": {
    "execution": {
     "iopub.execute_input": "2021-11-13T16:35:55.536123Z",
     "iopub.status.busy": "2021-11-13T16:35:55.535021Z",
     "iopub.status.idle": "2021-11-13T16:35:55.536942Z",
     "shell.execute_reply": "2021-11-13T16:35:55.537437Z",
     "shell.execute_reply.started": "2021-11-13T16:23:41.043756Z"
    },
    "id": "b8940992",
    "papermill": {
     "duration": 0.061077,
     "end_time": "2021-11-13T16:35:55.537618",
     "exception": false,
     "start_time": "2021-11-13T16:35:55.476541",
     "status": "completed"
    },
    "tags": []
   },
   "outputs": [],
   "source": [
    "def evaluate_model(model, X, y, X_test, y_test, target_names=None):\n",
    "    scores = cross_val_score(model, X, y, cv=5, scoring='accuracy')\n",
    "    scores_test = cross_val_score(model, X_test, y_test, cv=5, scoring='accuracy')\n",
    "    \n",
    "    print(\"Accuracy: %0.2f (+/- %0.2f)\" % (scores.mean(), scores.std()))\n",
    "    print(\"Accuracy test: %0.2f (+/- %0.2f)\" % (scores_test.mean(), scores_test.std()))\n",
    "    \n",
    "    print(\"Test classification report: \")\n",
    "    if target_names is None:\n",
    "        target_names = model.classes_\n",
    "    print(classification_report(y_test, model.predict(X_test), target_names=target_names))\n",
    "    print(\"Test confusion matrix: \")\n",
    "    print_confusion_matrix(confusion_matrix(y_test, model.predict(X_test)), class_names=target_names)"
   ]
  },
  {
   "cell_type": "markdown",
   "id": "cf6b8582",
   "metadata": {
    "id": "cf6b8582",
    "papermill": {
     "duration": 0.048568,
     "end_time": "2021-11-13T16:35:55.732415",
     "exception": false,
     "start_time": "2021-11-13T16:35:55.683847",
     "status": "completed"
    },
    "tags": []
   },
   "source": [
    "## Multinomial Naive Bayes"
   ]
  },
  {
   "cell_type": "code",
   "execution_count": 28,
   "id": "dcbd60e1",
   "metadata": {
    "colab": {
     "base_uri": "https://localhost:8080/",
     "height": 821
    },
    "execution": {
     "iopub.execute_input": "2021-11-13T16:35:55.838456Z",
     "iopub.status.busy": "2021-11-13T16:35:55.836869Z",
     "iopub.status.idle": "2021-11-13T16:35:58.435161Z",
     "shell.execute_reply": "2021-11-13T16:35:58.435669Z",
     "shell.execute_reply.started": "2021-11-13T16:23:41.060538Z"
    },
    "id": "dcbd60e1",
    "outputId": "5072133e-9e6b-48a7-8286-18cf9ebc64bd",
    "papermill": {
     "duration": 2.654459,
     "end_time": "2021-11-13T16:35:58.435853",
     "exception": false,
     "start_time": "2021-11-13T16:35:55.781394",
     "status": "completed"
    },
    "tags": []
   },
   "outputs": [
    {
     "name": "stdout",
     "output_type": "stream",
     "text": [
      "Accuracy: 0.90 (+/- 0.01)\n",
      "Accuracy test: 0.85 (+/- 0.02)\n",
      "Test classification report: \n",
      "                    precision    recall  f1-score   support\n",
      "\n",
      "     not depressed       0.94      0.81      0.87      1738\n",
      "severely depressed       0.83      0.95      0.89      1744\n",
      "\n",
      "          accuracy                           0.88      3482\n",
      "         macro avg       0.89      0.88      0.88      3482\n",
      "      weighted avg       0.89      0.88      0.88      3482\n",
      "\n",
      "Test confusion matrix: \n"
     ]
    },
    {
     "data": {
      "image/png": "[encoded data removed]",
      "text/plain": [
       "<Figure size 800x800 with 2 Axes>"
      ]
     },
     "metadata": {},
     "output_type": "display_data"
    }
   ],
   "source": [
    "mb=MultinomialNB()\n",
    "mb.fit(X_sel, y)\n",
    "evaluate_model(mb,X_sel,y,X_test_sel,y_test)"
   ]
  },
  {
   "cell_type": "code",
   "execution_count": null,
   "id": "60772816",
   "metadata": {},
   "outputs": [],
   "source": []
  },
  {
   "cell_type": "code",
   "execution_count": null,
   "id": "a183a9aa",
   "metadata": {},
   "outputs": [],
   "source": []
  }
 ],
 "metadata": {
  "colab": {
   "provenance": []
  },
  "hide_input": false,
  "kernelspec": {
   "display_name": "Python 3 (ipykernel)",
   "language": "python",
   "name": "python3"
  },
  "language_info": {
   "codemirror_mode": {
    "name": "ipython",
    "version": 3
   },
   "file_extension": ".py",
   "mimetype": "text/x-python",
   "name": "python",
   "nbconvert_exporter": "python",
   "pygments_lexer": "ipython3",
   "version": "3.9.13"
  },
  "papermill": {
   "default_parameters": {},
   "duration": 1327.453843,
   "end_time": "2021-11-13T16:52:01.778085",
   "environment_variables": {},
   "exception": null,
   "input_path": "__notebook__.ipynb",
   "output_path": "__notebook__.ipynb",
   "parameters": {},
   "start_time": "2021-11-13T16:29:54.324242",
   "version": "2.3.3"
  },
  "varInspector": {
   "cols": {
    "lenName": 16,
    "lenType": 16,
    "lenVar": 40
   },
   "kernels_config": {
    "python": {
     "delete_cmd_postfix": "",
     "delete_cmd_prefix": "del ",
     "library": "var_list.py",
     "varRefreshCmd": "print(var_dic_list())"
    },
    "r": {
     "delete_cmd_postfix": ") ",
     "delete_cmd_prefix": "rm(",
     "library": "var_list.r",
     "varRefreshCmd": "cat(var_dic_list()) "
    }
   },
   "types_to_exclude": [
    "module",
    "function",
    "builtin_function_or_method",
    "instance",
    "_Feature"
   ],
   "window_display": false
  }
 },
 "nbformat": 4,
 "nbformat_minor": 5
}
